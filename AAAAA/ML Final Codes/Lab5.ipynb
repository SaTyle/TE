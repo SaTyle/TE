{
 "cells": [
  {
   "cell_type": "code",
   "execution_count": 5,
   "id": "56ecab3d",
   "metadata": {},
   "outputs": [],
   "source": [
    "# !pip install mlxtend"
   ]
  },
  {
   "cell_type": "code",
   "execution_count": 6,
   "id": "9029a64f",
   "metadata": {},
   "outputs": [],
   "source": [
    "import pandas as pd \n",
    "import csv\n",
    "from mlxtend.preprocessing import TransactionEncoder\n",
    "from mlxtend.frequent_patterns import apriori, association_rules"
   ]
  },
  {
   "cell_type": "code",
   "execution_count": 7,
   "id": "841ecfc5",
   "metadata": {},
   "outputs": [],
   "source": [
    "dataset = []\n",
    "with open(\"Market_Basket_Optimisation.csv\") as file:\n",
    "    reader = csv.reader(file, delimiter = ',')\n",
    "    for row in reader:\n",
    "        dataset = dataset + [row]"
   ]
  },
  {
   "cell_type": "code",
   "execution_count": 8,
   "id": "b4daeb88",
   "metadata": {},
   "outputs": [],
   "source": [
    "# dataset"
   ]
  },
  {
   "cell_type": "code",
   "execution_count": 9,
   "id": "99be5da0",
   "metadata": {},
   "outputs": [
    {
     "data": {
      "text/plain": [
       "[['shrimp',\n",
       "  'almonds',\n",
       "  'avocado',\n",
       "  'vegetables mix',\n",
       "  'green grapes',\n",
       "  'whole weat flour',\n",
       "  'yams',\n",
       "  'cottage cheese',\n",
       "  'energy drink',\n",
       "  'tomato juice',\n",
       "  'low fat yogurt',\n",
       "  'green tea',\n",
       "  'honey',\n",
       "  'salad',\n",
       "  'mineral water',\n",
       "  'salmon',\n",
       "  'antioxydant juice',\n",
       "  'frozen smoothie',\n",
       "  'spinach',\n",
       "  'olive oil'],\n",
       " ['burgers', 'meatballs', 'eggs'],\n",
       " ['chutney'],\n",
       " ['turkey', 'avocado'],\n",
       " ['mineral water', 'milk', 'energy bar', 'whole wheat rice', 'green tea'],\n",
       " ['low fat yogurt'],\n",
       " ['whole wheat pasta', 'french fries'],\n",
       " ['soup', 'light cream', 'shallot'],\n",
       " ['frozen vegetables', 'spaghetti', 'green tea'],\n",
       " ['french fries']]"
      ]
     },
     "execution_count": 9,
     "metadata": {},
     "output_type": "execute_result"
    }
   ],
   "source": [
    "dataset[0:10]"
   ]
  },
  {
   "cell_type": "code",
   "execution_count": 10,
   "id": "3e43fb5a",
   "metadata": {},
   "outputs": [
    {
     "data": {
      "text/plain": [
       "7501"
      ]
     },
     "execution_count": 10,
     "metadata": {},
     "output_type": "execute_result"
    }
   ],
   "source": [
    "len(dataset)"
   ]
  },
  {
   "cell_type": "markdown",
   "id": "bfd4c169",
   "metadata": {},
   "source": [
    "# Converting Data in Datafrom "
   ]
  },
  {
   "cell_type": "code",
   "execution_count": 11,
   "id": "fcb18728",
   "metadata": {},
   "outputs": [],
   "source": [
    "te = TransactionEncoder() # object created\n",
    "x = te.fit_transform(dataset)"
   ]
  },
  {
   "cell_type": "code",
   "execution_count": 12,
   "id": "0f5692a6",
   "metadata": {},
   "outputs": [
    {
     "name": "stdout",
     "output_type": "stream",
     "text": [
      "[' asparagus', 'almonds', 'antioxydant juice', 'asparagus', 'avocado', 'babies food', 'bacon', 'barbecue sauce', 'black tea', 'blueberries', 'body spray', 'bramble', 'brownies', 'bug spray', 'burger sauce', 'burgers', 'butter', 'cake', 'candy bars', 'carrots', 'cauliflower', 'cereals', 'champagne', 'chicken', 'chili', 'chocolate', 'chocolate bread', 'chutney', 'cider', 'clothes accessories', 'cookies', 'cooking oil', 'corn', 'cottage cheese', 'cream', 'dessert wine', 'eggplant', 'eggs', 'energy bar', 'energy drink', 'escalope', 'extra dark chocolate', 'flax seed', 'french fries', 'french wine', 'fresh bread', 'fresh tuna', 'fromage blanc', 'frozen smoothie', 'frozen vegetables', 'gluten free bar', 'grated cheese', 'green beans', 'green grapes', 'green tea', 'ground beef', 'gums', 'ham', 'hand protein bar', 'herb & pepper', 'honey', 'hot dogs', 'ketchup', 'light cream', 'light mayo', 'low fat yogurt', 'magazines', 'mashed potato', 'mayonnaise', 'meatballs', 'melons', 'milk', 'mineral water', 'mint', 'mint green tea', 'muffins', 'mushroom cream sauce', 'napkins', 'nonfat milk', 'oatmeal', 'oil', 'olive oil', 'pancakes', 'parmesan cheese', 'pasta', 'pepper', 'pet food', 'pickles', 'protein bar', 'red wine', 'rice', 'salad', 'salmon', 'salt', 'sandwich', 'shallot', 'shampoo', 'shrimp', 'soda', 'soup', 'spaghetti', 'sparkling water', 'spinach', 'strawberries', 'strong cheese', 'tea', 'tomato juice', 'tomato sauce', 'tomatoes', 'toothpaste', 'turkey', 'vegetables mix', 'water spray', 'white wine', 'whole weat flour', 'whole wheat pasta', 'whole wheat rice', 'yams', 'yogurt cake', 'zucchini']\n"
     ]
    }
   ],
   "source": [
    "print(te.columns_)"
   ]
  },
  {
   "cell_type": "code",
   "execution_count": 13,
   "id": "4e780490",
   "metadata": {},
   "outputs": [
    {
     "data": {
      "text/plain": [
       "120"
      ]
     },
     "execution_count": 13,
     "metadata": {},
     "output_type": "execute_result"
    }
   ],
   "source": [
    "len(te.columns_)"
   ]
  },
  {
   "cell_type": "code",
   "execution_count": 14,
   "id": "7d34fc8d",
   "metadata": {},
   "outputs": [
    {
     "data": {
      "text/plain": [
       "array([[False,  True,  True, ...,  True, False, False],\n",
       "       [False, False, False, ..., False, False, False],\n",
       "       [False, False, False, ..., False, False, False],\n",
       "       ...,\n",
       "       [False, False, False, ..., False, False, False],\n",
       "       [False, False, False, ..., False, False, False],\n",
       "       [False, False, False, ..., False,  True, False]])"
      ]
     },
     "execution_count": 14,
     "metadata": {},
     "output_type": "execute_result"
    }
   ],
   "source": [
    "x"
   ]
  },
  {
   "cell_type": "code",
   "execution_count": 15,
   "id": "c5d3bf5f",
   "metadata": {},
   "outputs": [],
   "source": [
    "df = pd.DataFrame(x, columns=te.columns_)"
   ]
  },
  {
   "cell_type": "code",
   "execution_count": 16,
   "id": "66dd9bd7",
   "metadata": {},
   "outputs": [
    {
     "data": {
      "text/html": [
       "<div>\n",
       "<style scoped>\n",
       "    .dataframe tbody tr th:only-of-type {\n",
       "        vertical-align: middle;\n",
       "    }\n",
       "\n",
       "    .dataframe tbody tr th {\n",
       "        vertical-align: top;\n",
       "    }\n",
       "\n",
       "    .dataframe thead th {\n",
       "        text-align: right;\n",
       "    }\n",
       "</style>\n",
       "<table border=\"1\" class=\"dataframe\">\n",
       "  <thead>\n",
       "    <tr style=\"text-align: right;\">\n",
       "      <th></th>\n",
       "      <th>asparagus</th>\n",
       "      <th>almonds</th>\n",
       "      <th>antioxydant juice</th>\n",
       "      <th>asparagus</th>\n",
       "      <th>avocado</th>\n",
       "      <th>babies food</th>\n",
       "      <th>bacon</th>\n",
       "      <th>barbecue sauce</th>\n",
       "      <th>black tea</th>\n",
       "      <th>blueberries</th>\n",
       "      <th>...</th>\n",
       "      <th>turkey</th>\n",
       "      <th>vegetables mix</th>\n",
       "      <th>water spray</th>\n",
       "      <th>white wine</th>\n",
       "      <th>whole weat flour</th>\n",
       "      <th>whole wheat pasta</th>\n",
       "      <th>whole wheat rice</th>\n",
       "      <th>yams</th>\n",
       "      <th>yogurt cake</th>\n",
       "      <th>zucchini</th>\n",
       "    </tr>\n",
       "  </thead>\n",
       "  <tbody>\n",
       "    <tr>\n",
       "      <th>0</th>\n",
       "      <td>False</td>\n",
       "      <td>True</td>\n",
       "      <td>True</td>\n",
       "      <td>False</td>\n",
       "      <td>True</td>\n",
       "      <td>False</td>\n",
       "      <td>False</td>\n",
       "      <td>False</td>\n",
       "      <td>False</td>\n",
       "      <td>False</td>\n",
       "      <td>...</td>\n",
       "      <td>False</td>\n",
       "      <td>True</td>\n",
       "      <td>False</td>\n",
       "      <td>False</td>\n",
       "      <td>True</td>\n",
       "      <td>False</td>\n",
       "      <td>False</td>\n",
       "      <td>True</td>\n",
       "      <td>False</td>\n",
       "      <td>False</td>\n",
       "    </tr>\n",
       "    <tr>\n",
       "      <th>1</th>\n",
       "      <td>False</td>\n",
       "      <td>False</td>\n",
       "      <td>False</td>\n",
       "      <td>False</td>\n",
       "      <td>False</td>\n",
       "      <td>False</td>\n",
       "      <td>False</td>\n",
       "      <td>False</td>\n",
       "      <td>False</td>\n",
       "      <td>False</td>\n",
       "      <td>...</td>\n",
       "      <td>False</td>\n",
       "      <td>False</td>\n",
       "      <td>False</td>\n",
       "      <td>False</td>\n",
       "      <td>False</td>\n",
       "      <td>False</td>\n",
       "      <td>False</td>\n",
       "      <td>False</td>\n",
       "      <td>False</td>\n",
       "      <td>False</td>\n",
       "    </tr>\n",
       "    <tr>\n",
       "      <th>2</th>\n",
       "      <td>False</td>\n",
       "      <td>False</td>\n",
       "      <td>False</td>\n",
       "      <td>False</td>\n",
       "      <td>False</td>\n",
       "      <td>False</td>\n",
       "      <td>False</td>\n",
       "      <td>False</td>\n",
       "      <td>False</td>\n",
       "      <td>False</td>\n",
       "      <td>...</td>\n",
       "      <td>False</td>\n",
       "      <td>False</td>\n",
       "      <td>False</td>\n",
       "      <td>False</td>\n",
       "      <td>False</td>\n",
       "      <td>False</td>\n",
       "      <td>False</td>\n",
       "      <td>False</td>\n",
       "      <td>False</td>\n",
       "      <td>False</td>\n",
       "    </tr>\n",
       "    <tr>\n",
       "      <th>3</th>\n",
       "      <td>False</td>\n",
       "      <td>False</td>\n",
       "      <td>False</td>\n",
       "      <td>False</td>\n",
       "      <td>True</td>\n",
       "      <td>False</td>\n",
       "      <td>False</td>\n",
       "      <td>False</td>\n",
       "      <td>False</td>\n",
       "      <td>False</td>\n",
       "      <td>...</td>\n",
       "      <td>True</td>\n",
       "      <td>False</td>\n",
       "      <td>False</td>\n",
       "      <td>False</td>\n",
       "      <td>False</td>\n",
       "      <td>False</td>\n",
       "      <td>False</td>\n",
       "      <td>False</td>\n",
       "      <td>False</td>\n",
       "      <td>False</td>\n",
       "    </tr>\n",
       "    <tr>\n",
       "      <th>4</th>\n",
       "      <td>False</td>\n",
       "      <td>False</td>\n",
       "      <td>False</td>\n",
       "      <td>False</td>\n",
       "      <td>False</td>\n",
       "      <td>False</td>\n",
       "      <td>False</td>\n",
       "      <td>False</td>\n",
       "      <td>False</td>\n",
       "      <td>False</td>\n",
       "      <td>...</td>\n",
       "      <td>False</td>\n",
       "      <td>False</td>\n",
       "      <td>False</td>\n",
       "      <td>False</td>\n",
       "      <td>False</td>\n",
       "      <td>False</td>\n",
       "      <td>True</td>\n",
       "      <td>False</td>\n",
       "      <td>False</td>\n",
       "      <td>False</td>\n",
       "    </tr>\n",
       "  </tbody>\n",
       "</table>\n",
       "<p>5 rows × 120 columns</p>\n",
       "</div>"
      ],
      "text/plain": [
       "    asparagus  almonds  antioxydant juice  asparagus  avocado  babies food   \n",
       "0       False     True               True      False     True        False  \\\n",
       "1       False    False              False      False    False        False   \n",
       "2       False    False              False      False    False        False   \n",
       "3       False    False              False      False     True        False   \n",
       "4       False    False              False      False    False        False   \n",
       "\n",
       "   bacon  barbecue sauce  black tea  blueberries  ...  turkey  vegetables mix   \n",
       "0  False           False      False        False  ...   False            True  \\\n",
       "1  False           False      False        False  ...   False           False   \n",
       "2  False           False      False        False  ...   False           False   \n",
       "3  False           False      False        False  ...    True           False   \n",
       "4  False           False      False        False  ...   False           False   \n",
       "\n",
       "   water spray  white wine  whole weat flour  whole wheat pasta   \n",
       "0        False       False              True              False  \\\n",
       "1        False       False             False              False   \n",
       "2        False       False             False              False   \n",
       "3        False       False             False              False   \n",
       "4        False       False             False              False   \n",
       "\n",
       "   whole wheat rice   yams  yogurt cake  zucchini  \n",
       "0             False   True        False     False  \n",
       "1             False  False        False     False  \n",
       "2             False  False        False     False  \n",
       "3             False  False        False     False  \n",
       "4              True  False        False     False  \n",
       "\n",
       "[5 rows x 120 columns]"
      ]
     },
     "execution_count": 16,
     "metadata": {},
     "output_type": "execute_result"
    }
   ],
   "source": [
    "df.head()"
   ]
  },
  {
   "cell_type": "code",
   "execution_count": 17,
   "id": "566de81a",
   "metadata": {},
   "outputs": [
    {
     "data": {
      "text/plain": [
       "(7501, 120)"
      ]
     },
     "execution_count": 17,
     "metadata": {},
     "output_type": "execute_result"
    }
   ],
   "source": [
    "df.shape"
   ]
  },
  {
   "cell_type": "code",
   "execution_count": 18,
   "id": "96888a51",
   "metadata": {},
   "outputs": [
    {
     "name": "stdout",
     "output_type": "stream",
     "text": [
      "<class 'pandas.core.frame.DataFrame'>\n",
      "RangeIndex: 7501 entries, 0 to 7500\n",
      "Columns: 120 entries,  asparagus to zucchini\n",
      "dtypes: bool(120)\n",
      "memory usage: 879.2 KB\n"
     ]
    }
   ],
   "source": [
    "df.info()"
   ]
  },
  {
   "cell_type": "markdown",
   "id": "9ae33313",
   "metadata": {},
   "source": [
    "# Using Algo"
   ]
  },
  {
   "cell_type": "code",
   "execution_count": 19,
   "id": "adc7735f",
   "metadata": {},
   "outputs": [],
   "source": [
    "freq_itemset = apriori(df , min_support=0.01 , use_colnames=True)"
   ]
  },
  {
   "cell_type": "code",
   "execution_count": 20,
   "id": "3e912ca4",
   "metadata": {},
   "outputs": [
    {
     "data": {
      "text/html": [
       "<div>\n",
       "<style scoped>\n",
       "    .dataframe tbody tr th:only-of-type {\n",
       "        vertical-align: middle;\n",
       "    }\n",
       "\n",
       "    .dataframe tbody tr th {\n",
       "        vertical-align: top;\n",
       "    }\n",
       "\n",
       "    .dataframe thead th {\n",
       "        text-align: right;\n",
       "    }\n",
       "</style>\n",
       "<table border=\"1\" class=\"dataframe\">\n",
       "  <thead>\n",
       "    <tr style=\"text-align: right;\">\n",
       "      <th></th>\n",
       "      <th>support</th>\n",
       "      <th>itemsets</th>\n",
       "    </tr>\n",
       "  </thead>\n",
       "  <tbody>\n",
       "    <tr>\n",
       "      <th>0</th>\n",
       "      <td>0.020397</td>\n",
       "      <td>(almonds)</td>\n",
       "    </tr>\n",
       "    <tr>\n",
       "      <th>1</th>\n",
       "      <td>0.033329</td>\n",
       "      <td>(avocado)</td>\n",
       "    </tr>\n",
       "    <tr>\n",
       "      <th>2</th>\n",
       "      <td>0.010799</td>\n",
       "      <td>(barbecue sauce)</td>\n",
       "    </tr>\n",
       "    <tr>\n",
       "      <th>3</th>\n",
       "      <td>0.014265</td>\n",
       "      <td>(black tea)</td>\n",
       "    </tr>\n",
       "    <tr>\n",
       "      <th>4</th>\n",
       "      <td>0.011465</td>\n",
       "      <td>(body spray)</td>\n",
       "    </tr>\n",
       "    <tr>\n",
       "      <th>...</th>\n",
       "      <td>...</td>\n",
       "      <td>...</td>\n",
       "    </tr>\n",
       "    <tr>\n",
       "      <th>252</th>\n",
       "      <td>0.011065</td>\n",
       "      <td>(milk, ground beef, mineral water)</td>\n",
       "    </tr>\n",
       "    <tr>\n",
       "      <th>253</th>\n",
       "      <td>0.017064</td>\n",
       "      <td>(spaghetti, ground beef, mineral water)</td>\n",
       "    </tr>\n",
       "    <tr>\n",
       "      <th>254</th>\n",
       "      <td>0.015731</td>\n",
       "      <td>(milk, spaghetti, mineral water)</td>\n",
       "    </tr>\n",
       "    <tr>\n",
       "      <th>255</th>\n",
       "      <td>0.010265</td>\n",
       "      <td>(spaghetti, olive oil, mineral water)</td>\n",
       "    </tr>\n",
       "    <tr>\n",
       "      <th>256</th>\n",
       "      <td>0.011465</td>\n",
       "      <td>(spaghetti, pancakes, mineral water)</td>\n",
       "    </tr>\n",
       "  </tbody>\n",
       "</table>\n",
       "<p>257 rows × 2 columns</p>\n",
       "</div>"
      ],
      "text/plain": [
       "      support                                 itemsets\n",
       "0    0.020397                                (almonds)\n",
       "1    0.033329                                (avocado)\n",
       "2    0.010799                         (barbecue sauce)\n",
       "3    0.014265                              (black tea)\n",
       "4    0.011465                             (body spray)\n",
       "..        ...                                      ...\n",
       "252  0.011065       (milk, ground beef, mineral water)\n",
       "253  0.017064  (spaghetti, ground beef, mineral water)\n",
       "254  0.015731         (milk, spaghetti, mineral water)\n",
       "255  0.010265    (spaghetti, olive oil, mineral water)\n",
       "256  0.011465     (spaghetti, pancakes, mineral water)\n",
       "\n",
       "[257 rows x 2 columns]"
      ]
     },
     "execution_count": 20,
     "metadata": {},
     "output_type": "execute_result"
    }
   ],
   "source": [
    "freq_itemset"
   ]
  },
  {
   "cell_type": "code",
   "execution_count": 21,
   "id": "14a00432",
   "metadata": {},
   "outputs": [],
   "source": [
    "rules = association_rules(freq_itemset, metric='confidence', min_threshold=0.25)"
   ]
  },
  {
   "cell_type": "code",
   "execution_count": 22,
   "id": "e2e7eae5",
   "metadata": {},
   "outputs": [
    {
     "data": {
      "text/html": [
       "<div>\n",
       "<style scoped>\n",
       "    .dataframe tbody tr th:only-of-type {\n",
       "        vertical-align: middle;\n",
       "    }\n",
       "\n",
       "    .dataframe tbody tr th {\n",
       "        vertical-align: top;\n",
       "    }\n",
       "\n",
       "    .dataframe thead th {\n",
       "        text-align: right;\n",
       "    }\n",
       "</style>\n",
       "<table border=\"1\" class=\"dataframe\">\n",
       "  <thead>\n",
       "    <tr style=\"text-align: right;\">\n",
       "      <th></th>\n",
       "      <th>antecedents</th>\n",
       "      <th>consequents</th>\n",
       "      <th>antecedent support</th>\n",
       "      <th>consequent support</th>\n",
       "      <th>support</th>\n",
       "      <th>confidence</th>\n",
       "      <th>lift</th>\n",
       "      <th>leverage</th>\n",
       "      <th>conviction</th>\n",
       "      <th>zhangs_metric</th>\n",
       "    </tr>\n",
       "  </thead>\n",
       "  <tbody>\n",
       "    <tr>\n",
       "      <th>0</th>\n",
       "      <td>(avocado)</td>\n",
       "      <td>(mineral water)</td>\n",
       "      <td>0.033329</td>\n",
       "      <td>0.238368</td>\n",
       "      <td>0.011598</td>\n",
       "      <td>0.348000</td>\n",
       "      <td>1.459926</td>\n",
       "      <td>0.003654</td>\n",
       "      <td>1.168147</td>\n",
       "      <td>0.325896</td>\n",
       "    </tr>\n",
       "    <tr>\n",
       "      <th>1</th>\n",
       "      <td>(burgers)</td>\n",
       "      <td>(eggs)</td>\n",
       "      <td>0.087188</td>\n",
       "      <td>0.179709</td>\n",
       "      <td>0.028796</td>\n",
       "      <td>0.330275</td>\n",
       "      <td>1.837830</td>\n",
       "      <td>0.013128</td>\n",
       "      <td>1.224818</td>\n",
       "      <td>0.499424</td>\n",
       "    </tr>\n",
       "    <tr>\n",
       "      <th>2</th>\n",
       "      <td>(burgers)</td>\n",
       "      <td>(french fries)</td>\n",
       "      <td>0.087188</td>\n",
       "      <td>0.170911</td>\n",
       "      <td>0.021997</td>\n",
       "      <td>0.252294</td>\n",
       "      <td>1.476173</td>\n",
       "      <td>0.007096</td>\n",
       "      <td>1.108844</td>\n",
       "      <td>0.353384</td>\n",
       "    </tr>\n",
       "    <tr>\n",
       "      <th>3</th>\n",
       "      <td>(burgers)</td>\n",
       "      <td>(mineral water)</td>\n",
       "      <td>0.087188</td>\n",
       "      <td>0.238368</td>\n",
       "      <td>0.024397</td>\n",
       "      <td>0.279817</td>\n",
       "      <td>1.173883</td>\n",
       "      <td>0.003614</td>\n",
       "      <td>1.057552</td>\n",
       "      <td>0.162275</td>\n",
       "    </tr>\n",
       "    <tr>\n",
       "      <th>4</th>\n",
       "      <td>(cake)</td>\n",
       "      <td>(mineral water)</td>\n",
       "      <td>0.081056</td>\n",
       "      <td>0.238368</td>\n",
       "      <td>0.027463</td>\n",
       "      <td>0.338816</td>\n",
       "      <td>1.421397</td>\n",
       "      <td>0.008142</td>\n",
       "      <td>1.151921</td>\n",
       "      <td>0.322617</td>\n",
       "    </tr>\n",
       "    <tr>\n",
       "      <th>...</th>\n",
       "      <td>...</td>\n",
       "      <td>...</td>\n",
       "      <td>...</td>\n",
       "      <td>...</td>\n",
       "      <td>...</td>\n",
       "      <td>...</td>\n",
       "      <td>...</td>\n",
       "      <td>...</td>\n",
       "      <td>...</td>\n",
       "      <td>...</td>\n",
       "    </tr>\n",
       "    <tr>\n",
       "      <th>90</th>\n",
       "      <td>(spaghetti, mineral water)</td>\n",
       "      <td>(milk)</td>\n",
       "      <td>0.059725</td>\n",
       "      <td>0.129583</td>\n",
       "      <td>0.015731</td>\n",
       "      <td>0.263393</td>\n",
       "      <td>2.032623</td>\n",
       "      <td>0.007992</td>\n",
       "      <td>1.181657</td>\n",
       "      <td>0.540294</td>\n",
       "    </tr>\n",
       "    <tr>\n",
       "      <th>91</th>\n",
       "      <td>(spaghetti, olive oil)</td>\n",
       "      <td>(mineral water)</td>\n",
       "      <td>0.022930</td>\n",
       "      <td>0.238368</td>\n",
       "      <td>0.010265</td>\n",
       "      <td>0.447674</td>\n",
       "      <td>1.878079</td>\n",
       "      <td>0.004799</td>\n",
       "      <td>1.378954</td>\n",
       "      <td>0.478514</td>\n",
       "    </tr>\n",
       "    <tr>\n",
       "      <th>92</th>\n",
       "      <td>(olive oil, mineral water)</td>\n",
       "      <td>(spaghetti)</td>\n",
       "      <td>0.027596</td>\n",
       "      <td>0.174110</td>\n",
       "      <td>0.010265</td>\n",
       "      <td>0.371981</td>\n",
       "      <td>2.136468</td>\n",
       "      <td>0.005460</td>\n",
       "      <td>1.315071</td>\n",
       "      <td>0.547034</td>\n",
       "    </tr>\n",
       "    <tr>\n",
       "      <th>93</th>\n",
       "      <td>(spaghetti, pancakes)</td>\n",
       "      <td>(mineral water)</td>\n",
       "      <td>0.025197</td>\n",
       "      <td>0.238368</td>\n",
       "      <td>0.011465</td>\n",
       "      <td>0.455026</td>\n",
       "      <td>1.908923</td>\n",
       "      <td>0.005459</td>\n",
       "      <td>1.397557</td>\n",
       "      <td>0.488452</td>\n",
       "    </tr>\n",
       "    <tr>\n",
       "      <th>94</th>\n",
       "      <td>(pancakes, mineral water)</td>\n",
       "      <td>(spaghetti)</td>\n",
       "      <td>0.033729</td>\n",
       "      <td>0.174110</td>\n",
       "      <td>0.011465</td>\n",
       "      <td>0.339921</td>\n",
       "      <td>1.952333</td>\n",
       "      <td>0.005593</td>\n",
       "      <td>1.251198</td>\n",
       "      <td>0.504819</td>\n",
       "    </tr>\n",
       "  </tbody>\n",
       "</table>\n",
       "<p>95 rows × 10 columns</p>\n",
       "</div>"
      ],
      "text/plain": [
       "                   antecedents      consequents  antecedent support   \n",
       "0                    (avocado)  (mineral water)            0.033329  \\\n",
       "1                    (burgers)           (eggs)            0.087188   \n",
       "2                    (burgers)   (french fries)            0.087188   \n",
       "3                    (burgers)  (mineral water)            0.087188   \n",
       "4                       (cake)  (mineral water)            0.081056   \n",
       "..                         ...              ...                 ...   \n",
       "90  (spaghetti, mineral water)           (milk)            0.059725   \n",
       "91      (spaghetti, olive oil)  (mineral water)            0.022930   \n",
       "92  (olive oil, mineral water)      (spaghetti)            0.027596   \n",
       "93       (spaghetti, pancakes)  (mineral water)            0.025197   \n",
       "94   (pancakes, mineral water)      (spaghetti)            0.033729   \n",
       "\n",
       "    consequent support   support  confidence      lift  leverage  conviction   \n",
       "0             0.238368  0.011598    0.348000  1.459926  0.003654    1.168147  \\\n",
       "1             0.179709  0.028796    0.330275  1.837830  0.013128    1.224818   \n",
       "2             0.170911  0.021997    0.252294  1.476173  0.007096    1.108844   \n",
       "3             0.238368  0.024397    0.279817  1.173883  0.003614    1.057552   \n",
       "4             0.238368  0.027463    0.338816  1.421397  0.008142    1.151921   \n",
       "..                 ...       ...         ...       ...       ...         ...   \n",
       "90            0.129583  0.015731    0.263393  2.032623  0.007992    1.181657   \n",
       "91            0.238368  0.010265    0.447674  1.878079  0.004799    1.378954   \n",
       "92            0.174110  0.010265    0.371981  2.136468  0.005460    1.315071   \n",
       "93            0.238368  0.011465    0.455026  1.908923  0.005459    1.397557   \n",
       "94            0.174110  0.011465    0.339921  1.952333  0.005593    1.251198   \n",
       "\n",
       "    zhangs_metric  \n",
       "0        0.325896  \n",
       "1        0.499424  \n",
       "2        0.353384  \n",
       "3        0.162275  \n",
       "4        0.322617  \n",
       "..            ...  \n",
       "90       0.540294  \n",
       "91       0.478514  \n",
       "92       0.547034  \n",
       "93       0.488452  \n",
       "94       0.504819  \n",
       "\n",
       "[95 rows x 10 columns]"
      ]
     },
     "execution_count": 22,
     "metadata": {},
     "output_type": "execute_result"
    }
   ],
   "source": [
    "rules"
   ]
  },
  {
   "cell_type": "code",
   "execution_count": 23,
   "id": "ed3a4256",
   "metadata": {},
   "outputs": [],
   "source": [
    "rules = rules[[\"antecedents\" , \"consequents\" , \"support\" , \"confidence\"]]"
   ]
  },
  {
   "cell_type": "code",
   "execution_count": 24,
   "id": "7414cd48",
   "metadata": {},
   "outputs": [
    {
     "data": {
      "text/html": [
       "<div>\n",
       "<style scoped>\n",
       "    .dataframe tbody tr th:only-of-type {\n",
       "        vertical-align: middle;\n",
       "    }\n",
       "\n",
       "    .dataframe tbody tr th {\n",
       "        vertical-align: top;\n",
       "    }\n",
       "\n",
       "    .dataframe thead th {\n",
       "        text-align: right;\n",
       "    }\n",
       "</style>\n",
       "<table border=\"1\" class=\"dataframe\">\n",
       "  <thead>\n",
       "    <tr style=\"text-align: right;\">\n",
       "      <th></th>\n",
       "      <th>antecedents</th>\n",
       "      <th>consequents</th>\n",
       "      <th>support</th>\n",
       "      <th>confidence</th>\n",
       "    </tr>\n",
       "  </thead>\n",
       "  <tbody>\n",
       "    <tr>\n",
       "      <th>0</th>\n",
       "      <td>(avocado)</td>\n",
       "      <td>(mineral water)</td>\n",
       "      <td>0.011598</td>\n",
       "      <td>0.348000</td>\n",
       "    </tr>\n",
       "    <tr>\n",
       "      <th>1</th>\n",
       "      <td>(burgers)</td>\n",
       "      <td>(eggs)</td>\n",
       "      <td>0.028796</td>\n",
       "      <td>0.330275</td>\n",
       "    </tr>\n",
       "    <tr>\n",
       "      <th>2</th>\n",
       "      <td>(burgers)</td>\n",
       "      <td>(french fries)</td>\n",
       "      <td>0.021997</td>\n",
       "      <td>0.252294</td>\n",
       "    </tr>\n",
       "    <tr>\n",
       "      <th>3</th>\n",
       "      <td>(burgers)</td>\n",
       "      <td>(mineral water)</td>\n",
       "      <td>0.024397</td>\n",
       "      <td>0.279817</td>\n",
       "    </tr>\n",
       "    <tr>\n",
       "      <th>4</th>\n",
       "      <td>(cake)</td>\n",
       "      <td>(mineral water)</td>\n",
       "      <td>0.027463</td>\n",
       "      <td>0.338816</td>\n",
       "    </tr>\n",
       "  </tbody>\n",
       "</table>\n",
       "</div>"
      ],
      "text/plain": [
       "  antecedents      consequents   support  confidence\n",
       "0   (avocado)  (mineral water)  0.011598    0.348000\n",
       "1   (burgers)           (eggs)  0.028796    0.330275\n",
       "2   (burgers)   (french fries)  0.021997    0.252294\n",
       "3   (burgers)  (mineral water)  0.024397    0.279817\n",
       "4      (cake)  (mineral water)  0.027463    0.338816"
      ]
     },
     "execution_count": 24,
     "metadata": {},
     "output_type": "execute_result"
    }
   ],
   "source": [
    "rules.head()"
   ]
  },
  {
   "cell_type": "code",
   "execution_count": 25,
   "id": "e26c842e",
   "metadata": {},
   "outputs": [
    {
     "data": {
      "text/html": [
       "<div>\n",
       "<style scoped>\n",
       "    .dataframe tbody tr th:only-of-type {\n",
       "        vertical-align: middle;\n",
       "    }\n",
       "\n",
       "    .dataframe tbody tr th {\n",
       "        vertical-align: top;\n",
       "    }\n",
       "\n",
       "    .dataframe thead th {\n",
       "        text-align: right;\n",
       "    }\n",
       "</style>\n",
       "<table border=\"1\" class=\"dataframe\">\n",
       "  <thead>\n",
       "    <tr style=\"text-align: right;\">\n",
       "      <th></th>\n",
       "      <th>antecedents</th>\n",
       "      <th>consequents</th>\n",
       "      <th>support</th>\n",
       "      <th>confidence</th>\n",
       "    </tr>\n",
       "  </thead>\n",
       "  <tbody>\n",
       "    <tr>\n",
       "      <th>4</th>\n",
       "      <td>(cake)</td>\n",
       "      <td>(mineral water)</td>\n",
       "      <td>0.027463</td>\n",
       "      <td>0.338816</td>\n",
       "    </tr>\n",
       "  </tbody>\n",
       "</table>\n",
       "</div>"
      ],
      "text/plain": [
       "  antecedents      consequents   support  confidence\n",
       "4      (cake)  (mineral water)  0.027463    0.338816"
      ]
     },
     "execution_count": 25,
     "metadata": {},
     "output_type": "execute_result"
    }
   ],
   "source": [
    "rules[rules[\"antecedents\"] == {\"cake\"}]"
   ]
  },
  {
   "cell_type": "code",
   "execution_count": 26,
   "id": "a355bb6e",
   "metadata": {},
   "outputs": [
    {
     "data": {
      "text/plain": [
       "4    (mineral water)\n",
       "Name: consequents, dtype: object"
      ]
     },
     "execution_count": 26,
     "metadata": {},
     "output_type": "execute_result"
    }
   ],
   "source": [
    "rules[rules[\"antecedents\"] == {\"cake\"}][\"consequents\"]"
   ]
  },
  {
   "cell_type": "code",
   "execution_count": null,
   "id": "06212817-dcba-4125-b8ce-6a394757a1f3",
   "metadata": {},
   "outputs": [],
   "source": []
  },
  {
   "cell_type": "code",
   "execution_count": null,
   "id": "0cfc5628-0f8c-417e-a40d-e3d60efaa73c",
   "metadata": {},
   "outputs": [],
   "source": []
  },
  {
   "cell_type": "code",
   "execution_count": null,
   "id": "de7bac71-03a6-4fb7-bb89-2fe0af464073",
   "metadata": {},
   "outputs": [],
   "source": []
  }
 ],
 "metadata": {
  "kernelspec": {
   "display_name": "Python 3 (ipykernel)",
   "language": "python",
   "name": "python3"
  },
  "language_info": {
   "codemirror_mode": {
    "name": "ipython",
    "version": 3
   },
   "file_extension": ".py",
   "mimetype": "text/x-python",
   "name": "python",
   "nbconvert_exporter": "python",
   "pygments_lexer": "ipython3",
   "version": "3.11.4"
  }
 },
 "nbformat": 4,
 "nbformat_minor": 5
}
