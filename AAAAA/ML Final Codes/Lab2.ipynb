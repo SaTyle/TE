{
 "cells": [
  {
   "cell_type": "code",
   "execution_count": 1,
   "id": "aecd247b-d916-47d8-96ff-f91479154322",
   "metadata": {},
   "outputs": [],
   "source": [
    "import numpy as np\n",
    "import matplotlib.pyplot as plt\n",
    "import pandas as pd"
   ]
  },
  {
   "cell_type": "code",
   "execution_count": 2,
   "id": "28dbb31a-2a40-4d51-bcca-8d5016125ac2",
   "metadata": {},
   "outputs": [],
   "source": [
    "df = pd.read_csv(\"temperatures.csv\")"
   ]
  },
  {
   "cell_type": "code",
   "execution_count": 3,
   "id": "73346bdd-b164-4fab-b946-67a55215c36d",
   "metadata": {},
   "outputs": [
    {
     "data": {
      "text/html": [
       "<div>\n",
       "<style scoped>\n",
       "    .dataframe tbody tr th:only-of-type {\n",
       "        vertical-align: middle;\n",
       "    }\n",
       "\n",
       "    .dataframe tbody tr th {\n",
       "        vertical-align: top;\n",
       "    }\n",
       "\n",
       "    .dataframe thead th {\n",
       "        text-align: right;\n",
       "    }\n",
       "</style>\n",
       "<table border=\"1\" class=\"dataframe\">\n",
       "  <thead>\n",
       "    <tr style=\"text-align: right;\">\n",
       "      <th></th>\n",
       "      <th>YEAR</th>\n",
       "      <th>JAN</th>\n",
       "      <th>FEB</th>\n",
       "      <th>MAR</th>\n",
       "      <th>APR</th>\n",
       "      <th>MAY</th>\n",
       "      <th>JUN</th>\n",
       "      <th>JUL</th>\n",
       "      <th>AUG</th>\n",
       "      <th>SEP</th>\n",
       "      <th>OCT</th>\n",
       "      <th>NOV</th>\n",
       "      <th>DEC</th>\n",
       "      <th>ANNUAL</th>\n",
       "      <th>JAN-FEB</th>\n",
       "      <th>MAR-MAY</th>\n",
       "      <th>JUN-SEP</th>\n",
       "      <th>OCT-DEC</th>\n",
       "    </tr>\n",
       "  </thead>\n",
       "  <tbody>\n",
       "    <tr>\n",
       "      <th>0</th>\n",
       "      <td>1901</td>\n",
       "      <td>22.40</td>\n",
       "      <td>24.14</td>\n",
       "      <td>29.07</td>\n",
       "      <td>31.91</td>\n",
       "      <td>33.41</td>\n",
       "      <td>33.18</td>\n",
       "      <td>31.21</td>\n",
       "      <td>30.39</td>\n",
       "      <td>30.47</td>\n",
       "      <td>29.97</td>\n",
       "      <td>27.31</td>\n",
       "      <td>24.49</td>\n",
       "      <td>28.96</td>\n",
       "      <td>23.27</td>\n",
       "      <td>31.46</td>\n",
       "      <td>31.27</td>\n",
       "      <td>27.25</td>\n",
       "    </tr>\n",
       "    <tr>\n",
       "      <th>1</th>\n",
       "      <td>1902</td>\n",
       "      <td>24.93</td>\n",
       "      <td>26.58</td>\n",
       "      <td>29.77</td>\n",
       "      <td>31.78</td>\n",
       "      <td>33.73</td>\n",
       "      <td>32.91</td>\n",
       "      <td>30.92</td>\n",
       "      <td>30.73</td>\n",
       "      <td>29.80</td>\n",
       "      <td>29.12</td>\n",
       "      <td>26.31</td>\n",
       "      <td>24.04</td>\n",
       "      <td>29.22</td>\n",
       "      <td>25.75</td>\n",
       "      <td>31.76</td>\n",
       "      <td>31.09</td>\n",
       "      <td>26.49</td>\n",
       "    </tr>\n",
       "    <tr>\n",
       "      <th>2</th>\n",
       "      <td>1903</td>\n",
       "      <td>23.44</td>\n",
       "      <td>25.03</td>\n",
       "      <td>27.83</td>\n",
       "      <td>31.39</td>\n",
       "      <td>32.91</td>\n",
       "      <td>33.00</td>\n",
       "      <td>31.34</td>\n",
       "      <td>29.98</td>\n",
       "      <td>29.85</td>\n",
       "      <td>29.04</td>\n",
       "      <td>26.08</td>\n",
       "      <td>23.65</td>\n",
       "      <td>28.47</td>\n",
       "      <td>24.24</td>\n",
       "      <td>30.71</td>\n",
       "      <td>30.92</td>\n",
       "      <td>26.26</td>\n",
       "    </tr>\n",
       "    <tr>\n",
       "      <th>3</th>\n",
       "      <td>1904</td>\n",
       "      <td>22.50</td>\n",
       "      <td>24.73</td>\n",
       "      <td>28.21</td>\n",
       "      <td>32.02</td>\n",
       "      <td>32.64</td>\n",
       "      <td>32.07</td>\n",
       "      <td>30.36</td>\n",
       "      <td>30.09</td>\n",
       "      <td>30.04</td>\n",
       "      <td>29.20</td>\n",
       "      <td>26.36</td>\n",
       "      <td>23.63</td>\n",
       "      <td>28.49</td>\n",
       "      <td>23.62</td>\n",
       "      <td>30.95</td>\n",
       "      <td>30.66</td>\n",
       "      <td>26.40</td>\n",
       "    </tr>\n",
       "    <tr>\n",
       "      <th>4</th>\n",
       "      <td>1905</td>\n",
       "      <td>22.00</td>\n",
       "      <td>22.83</td>\n",
       "      <td>26.68</td>\n",
       "      <td>30.01</td>\n",
       "      <td>33.32</td>\n",
       "      <td>33.25</td>\n",
       "      <td>31.44</td>\n",
       "      <td>30.68</td>\n",
       "      <td>30.12</td>\n",
       "      <td>30.67</td>\n",
       "      <td>27.52</td>\n",
       "      <td>23.82</td>\n",
       "      <td>28.30</td>\n",
       "      <td>22.25</td>\n",
       "      <td>30.00</td>\n",
       "      <td>31.33</td>\n",
       "      <td>26.57</td>\n",
       "    </tr>\n",
       "    <tr>\n",
       "      <th>5</th>\n",
       "      <td>1906</td>\n",
       "      <td>22.28</td>\n",
       "      <td>23.69</td>\n",
       "      <td>27.31</td>\n",
       "      <td>31.93</td>\n",
       "      <td>34.11</td>\n",
       "      <td>32.19</td>\n",
       "      <td>31.01</td>\n",
       "      <td>30.30</td>\n",
       "      <td>29.92</td>\n",
       "      <td>29.55</td>\n",
       "      <td>27.60</td>\n",
       "      <td>24.72</td>\n",
       "      <td>28.73</td>\n",
       "      <td>23.03</td>\n",
       "      <td>31.11</td>\n",
       "      <td>30.86</td>\n",
       "      <td>27.29</td>\n",
       "    </tr>\n",
       "    <tr>\n",
       "      <th>6</th>\n",
       "      <td>1907</td>\n",
       "      <td>24.46</td>\n",
       "      <td>24.01</td>\n",
       "      <td>27.04</td>\n",
       "      <td>31.79</td>\n",
       "      <td>32.68</td>\n",
       "      <td>31.92</td>\n",
       "      <td>31.05</td>\n",
       "      <td>29.58</td>\n",
       "      <td>30.67</td>\n",
       "      <td>29.87</td>\n",
       "      <td>27.78</td>\n",
       "      <td>24.44</td>\n",
       "      <td>28.65</td>\n",
       "      <td>24.23</td>\n",
       "      <td>29.92</td>\n",
       "      <td>30.80</td>\n",
       "      <td>27.36</td>\n",
       "    </tr>\n",
       "    <tr>\n",
       "      <th>7</th>\n",
       "      <td>1908</td>\n",
       "      <td>23.57</td>\n",
       "      <td>25.26</td>\n",
       "      <td>28.86</td>\n",
       "      <td>32.42</td>\n",
       "      <td>33.02</td>\n",
       "      <td>33.12</td>\n",
       "      <td>30.61</td>\n",
       "      <td>29.55</td>\n",
       "      <td>29.59</td>\n",
       "      <td>29.35</td>\n",
       "      <td>26.88</td>\n",
       "      <td>23.73</td>\n",
       "      <td>28.83</td>\n",
       "      <td>24.42</td>\n",
       "      <td>31.43</td>\n",
       "      <td>30.72</td>\n",
       "      <td>26.64</td>\n",
       "    </tr>\n",
       "    <tr>\n",
       "      <th>8</th>\n",
       "      <td>1909</td>\n",
       "      <td>22.67</td>\n",
       "      <td>24.36</td>\n",
       "      <td>29.22</td>\n",
       "      <td>30.79</td>\n",
       "      <td>33.06</td>\n",
       "      <td>31.70</td>\n",
       "      <td>29.81</td>\n",
       "      <td>29.81</td>\n",
       "      <td>30.06</td>\n",
       "      <td>29.25</td>\n",
       "      <td>27.69</td>\n",
       "      <td>23.69</td>\n",
       "      <td>28.38</td>\n",
       "      <td>23.52</td>\n",
       "      <td>31.02</td>\n",
       "      <td>30.33</td>\n",
       "      <td>26.88</td>\n",
       "    </tr>\n",
       "    <tr>\n",
       "      <th>9</th>\n",
       "      <td>1910</td>\n",
       "      <td>23.24</td>\n",
       "      <td>25.16</td>\n",
       "      <td>28.48</td>\n",
       "      <td>31.42</td>\n",
       "      <td>33.51</td>\n",
       "      <td>31.84</td>\n",
       "      <td>30.42</td>\n",
       "      <td>29.86</td>\n",
       "      <td>29.82</td>\n",
       "      <td>28.91</td>\n",
       "      <td>26.32</td>\n",
       "      <td>23.37</td>\n",
       "      <td>28.53</td>\n",
       "      <td>24.20</td>\n",
       "      <td>31.14</td>\n",
       "      <td>30.48</td>\n",
       "      <td>26.20</td>\n",
       "    </tr>\n",
       "  </tbody>\n",
       "</table>\n",
       "</div>"
      ],
      "text/plain": [
       "   YEAR    JAN    FEB    MAR    APR    MAY    JUN    JUL    AUG    SEP    OCT   \n",
       "0  1901  22.40  24.14  29.07  31.91  33.41  33.18  31.21  30.39  30.47  29.97  \\\n",
       "1  1902  24.93  26.58  29.77  31.78  33.73  32.91  30.92  30.73  29.80  29.12   \n",
       "2  1903  23.44  25.03  27.83  31.39  32.91  33.00  31.34  29.98  29.85  29.04   \n",
       "3  1904  22.50  24.73  28.21  32.02  32.64  32.07  30.36  30.09  30.04  29.20   \n",
       "4  1905  22.00  22.83  26.68  30.01  33.32  33.25  31.44  30.68  30.12  30.67   \n",
       "5  1906  22.28  23.69  27.31  31.93  34.11  32.19  31.01  30.30  29.92  29.55   \n",
       "6  1907  24.46  24.01  27.04  31.79  32.68  31.92  31.05  29.58  30.67  29.87   \n",
       "7  1908  23.57  25.26  28.86  32.42  33.02  33.12  30.61  29.55  29.59  29.35   \n",
       "8  1909  22.67  24.36  29.22  30.79  33.06  31.70  29.81  29.81  30.06  29.25   \n",
       "9  1910  23.24  25.16  28.48  31.42  33.51  31.84  30.42  29.86  29.82  28.91   \n",
       "\n",
       "     NOV    DEC  ANNUAL  JAN-FEB  MAR-MAY  JUN-SEP  OCT-DEC  \n",
       "0  27.31  24.49   28.96    23.27    31.46    31.27    27.25  \n",
       "1  26.31  24.04   29.22    25.75    31.76    31.09    26.49  \n",
       "2  26.08  23.65   28.47    24.24    30.71    30.92    26.26  \n",
       "3  26.36  23.63   28.49    23.62    30.95    30.66    26.40  \n",
       "4  27.52  23.82   28.30    22.25    30.00    31.33    26.57  \n",
       "5  27.60  24.72   28.73    23.03    31.11    30.86    27.29  \n",
       "6  27.78  24.44   28.65    24.23    29.92    30.80    27.36  \n",
       "7  26.88  23.73   28.83    24.42    31.43    30.72    26.64  \n",
       "8  27.69  23.69   28.38    23.52    31.02    30.33    26.88  \n",
       "9  26.32  23.37   28.53    24.20    31.14    30.48    26.20  "
      ]
     },
     "execution_count": 3,
     "metadata": {},
     "output_type": "execute_result"
    }
   ],
   "source": [
    "df.head(10)"
   ]
  },
  {
   "cell_type": "code",
   "execution_count": 4,
   "id": "f69986d0-43df-4127-8e83-d7696cf84d8b",
   "metadata": {},
   "outputs": [
    {
     "data": {
      "text/plain": [
       "YEAR         int64\n",
       "JAN        float64\n",
       "FEB        float64\n",
       "MAR        float64\n",
       "APR        float64\n",
       "MAY        float64\n",
       "JUN        float64\n",
       "JUL        float64\n",
       "AUG        float64\n",
       "SEP        float64\n",
       "OCT        float64\n",
       "NOV        float64\n",
       "DEC        float64\n",
       "ANNUAL     float64\n",
       "JAN-FEB    float64\n",
       "MAR-MAY    float64\n",
       "JUN-SEP    float64\n",
       "OCT-DEC    float64\n",
       "dtype: object"
      ]
     },
     "execution_count": 4,
     "metadata": {},
     "output_type": "execute_result"
    }
   ],
   "source": [
    "df.dtypes"
   ]
  },
  {
   "cell_type": "code",
   "execution_count": 5,
   "id": "cd06b625-3626-4051-891c-c7570db69def",
   "metadata": {},
   "outputs": [
    {
     "data": {
      "text/html": [
       "<div>\n",
       "<style scoped>\n",
       "    .dataframe tbody tr th:only-of-type {\n",
       "        vertical-align: middle;\n",
       "    }\n",
       "\n",
       "    .dataframe tbody tr th {\n",
       "        vertical-align: top;\n",
       "    }\n",
       "\n",
       "    .dataframe thead th {\n",
       "        text-align: right;\n",
       "    }\n",
       "</style>\n",
       "<table border=\"1\" class=\"dataframe\">\n",
       "  <thead>\n",
       "    <tr style=\"text-align: right;\">\n",
       "      <th></th>\n",
       "      <th>YEAR</th>\n",
       "      <th>JAN</th>\n",
       "      <th>FEB</th>\n",
       "      <th>MAR</th>\n",
       "      <th>APR</th>\n",
       "      <th>MAY</th>\n",
       "      <th>JUN</th>\n",
       "      <th>JUL</th>\n",
       "      <th>AUG</th>\n",
       "      <th>SEP</th>\n",
       "      <th>OCT</th>\n",
       "      <th>NOV</th>\n",
       "      <th>DEC</th>\n",
       "      <th>ANNUAL</th>\n",
       "      <th>JAN-FEB</th>\n",
       "      <th>MAR-MAY</th>\n",
       "      <th>JUN-SEP</th>\n",
       "      <th>OCT-DEC</th>\n",
       "    </tr>\n",
       "  </thead>\n",
       "  <tbody>\n",
       "    <tr>\n",
       "      <th>count</th>\n",
       "      <td>117.000000</td>\n",
       "      <td>117.000000</td>\n",
       "      <td>117.000000</td>\n",
       "      <td>117.000000</td>\n",
       "      <td>117.000000</td>\n",
       "      <td>117.000000</td>\n",
       "      <td>117.000000</td>\n",
       "      <td>117.000000</td>\n",
       "      <td>117.000000</td>\n",
       "      <td>117.000000</td>\n",
       "      <td>117.000000</td>\n",
       "      <td>117.000000</td>\n",
       "      <td>117.000000</td>\n",
       "      <td>117.000000</td>\n",
       "      <td>117.000000</td>\n",
       "      <td>117.000000</td>\n",
       "      <td>117.000000</td>\n",
       "      <td>117.000000</td>\n",
       "    </tr>\n",
       "    <tr>\n",
       "      <th>mean</th>\n",
       "      <td>1959.000000</td>\n",
       "      <td>23.687436</td>\n",
       "      <td>25.597863</td>\n",
       "      <td>29.085983</td>\n",
       "      <td>31.975812</td>\n",
       "      <td>33.565299</td>\n",
       "      <td>32.774274</td>\n",
       "      <td>31.035897</td>\n",
       "      <td>30.507692</td>\n",
       "      <td>30.486752</td>\n",
       "      <td>29.766581</td>\n",
       "      <td>27.285470</td>\n",
       "      <td>24.608291</td>\n",
       "      <td>29.181368</td>\n",
       "      <td>24.629573</td>\n",
       "      <td>31.517607</td>\n",
       "      <td>31.198205</td>\n",
       "      <td>27.208120</td>\n",
       "    </tr>\n",
       "    <tr>\n",
       "      <th>std</th>\n",
       "      <td>33.919021</td>\n",
       "      <td>0.834588</td>\n",
       "      <td>1.150757</td>\n",
       "      <td>1.068451</td>\n",
       "      <td>0.889478</td>\n",
       "      <td>0.724905</td>\n",
       "      <td>0.633132</td>\n",
       "      <td>0.468818</td>\n",
       "      <td>0.476312</td>\n",
       "      <td>0.544295</td>\n",
       "      <td>0.705492</td>\n",
       "      <td>0.714518</td>\n",
       "      <td>0.782644</td>\n",
       "      <td>0.555555</td>\n",
       "      <td>0.911239</td>\n",
       "      <td>0.740585</td>\n",
       "      <td>0.420508</td>\n",
       "      <td>0.672003</td>\n",
       "    </tr>\n",
       "    <tr>\n",
       "      <th>min</th>\n",
       "      <td>1901.000000</td>\n",
       "      <td>22.000000</td>\n",
       "      <td>22.830000</td>\n",
       "      <td>26.680000</td>\n",
       "      <td>30.010000</td>\n",
       "      <td>31.930000</td>\n",
       "      <td>31.100000</td>\n",
       "      <td>29.760000</td>\n",
       "      <td>29.310000</td>\n",
       "      <td>29.070000</td>\n",
       "      <td>27.900000</td>\n",
       "      <td>25.700000</td>\n",
       "      <td>23.020000</td>\n",
       "      <td>28.110000</td>\n",
       "      <td>22.250000</td>\n",
       "      <td>29.920000</td>\n",
       "      <td>30.240000</td>\n",
       "      <td>25.740000</td>\n",
       "    </tr>\n",
       "    <tr>\n",
       "      <th>25%</th>\n",
       "      <td>1930.000000</td>\n",
       "      <td>23.100000</td>\n",
       "      <td>24.780000</td>\n",
       "      <td>28.370000</td>\n",
       "      <td>31.460000</td>\n",
       "      <td>33.110000</td>\n",
       "      <td>32.340000</td>\n",
       "      <td>30.740000</td>\n",
       "      <td>30.180000</td>\n",
       "      <td>30.120000</td>\n",
       "      <td>29.380000</td>\n",
       "      <td>26.790000</td>\n",
       "      <td>24.040000</td>\n",
       "      <td>28.760000</td>\n",
       "      <td>24.110000</td>\n",
       "      <td>31.040000</td>\n",
       "      <td>30.920000</td>\n",
       "      <td>26.700000</td>\n",
       "    </tr>\n",
       "    <tr>\n",
       "      <th>50%</th>\n",
       "      <td>1959.000000</td>\n",
       "      <td>23.680000</td>\n",
       "      <td>25.480000</td>\n",
       "      <td>29.040000</td>\n",
       "      <td>31.950000</td>\n",
       "      <td>33.510000</td>\n",
       "      <td>32.730000</td>\n",
       "      <td>31.000000</td>\n",
       "      <td>30.540000</td>\n",
       "      <td>30.520000</td>\n",
       "      <td>29.780000</td>\n",
       "      <td>27.300000</td>\n",
       "      <td>24.660000</td>\n",
       "      <td>29.090000</td>\n",
       "      <td>24.530000</td>\n",
       "      <td>31.470000</td>\n",
       "      <td>31.190000</td>\n",
       "      <td>27.210000</td>\n",
       "    </tr>\n",
       "    <tr>\n",
       "      <th>75%</th>\n",
       "      <td>1988.000000</td>\n",
       "      <td>24.180000</td>\n",
       "      <td>26.310000</td>\n",
       "      <td>29.610000</td>\n",
       "      <td>32.420000</td>\n",
       "      <td>34.030000</td>\n",
       "      <td>33.180000</td>\n",
       "      <td>31.330000</td>\n",
       "      <td>30.760000</td>\n",
       "      <td>30.810000</td>\n",
       "      <td>30.170000</td>\n",
       "      <td>27.720000</td>\n",
       "      <td>25.110000</td>\n",
       "      <td>29.470000</td>\n",
       "      <td>25.150000</td>\n",
       "      <td>31.890000</td>\n",
       "      <td>31.400000</td>\n",
       "      <td>27.610000</td>\n",
       "    </tr>\n",
       "    <tr>\n",
       "      <th>max</th>\n",
       "      <td>2017.000000</td>\n",
       "      <td>26.940000</td>\n",
       "      <td>29.720000</td>\n",
       "      <td>32.620000</td>\n",
       "      <td>35.380000</td>\n",
       "      <td>35.840000</td>\n",
       "      <td>34.480000</td>\n",
       "      <td>32.760000</td>\n",
       "      <td>31.840000</td>\n",
       "      <td>32.220000</td>\n",
       "      <td>32.290000</td>\n",
       "      <td>30.110000</td>\n",
       "      <td>28.010000</td>\n",
       "      <td>31.630000</td>\n",
       "      <td>28.330000</td>\n",
       "      <td>34.570000</td>\n",
       "      <td>32.410000</td>\n",
       "      <td>30.030000</td>\n",
       "    </tr>\n",
       "  </tbody>\n",
       "</table>\n",
       "</div>"
      ],
      "text/plain": [
       "              YEAR         JAN         FEB         MAR         APR   \n",
       "count   117.000000  117.000000  117.000000  117.000000  117.000000  \\\n",
       "mean   1959.000000   23.687436   25.597863   29.085983   31.975812   \n",
       "std      33.919021    0.834588    1.150757    1.068451    0.889478   \n",
       "min    1901.000000   22.000000   22.830000   26.680000   30.010000   \n",
       "25%    1930.000000   23.100000   24.780000   28.370000   31.460000   \n",
       "50%    1959.000000   23.680000   25.480000   29.040000   31.950000   \n",
       "75%    1988.000000   24.180000   26.310000   29.610000   32.420000   \n",
       "max    2017.000000   26.940000   29.720000   32.620000   35.380000   \n",
       "\n",
       "              MAY         JUN         JUL         AUG         SEP         OCT   \n",
       "count  117.000000  117.000000  117.000000  117.000000  117.000000  117.000000  \\\n",
       "mean    33.565299   32.774274   31.035897   30.507692   30.486752   29.766581   \n",
       "std      0.724905    0.633132    0.468818    0.476312    0.544295    0.705492   \n",
       "min     31.930000   31.100000   29.760000   29.310000   29.070000   27.900000   \n",
       "25%     33.110000   32.340000   30.740000   30.180000   30.120000   29.380000   \n",
       "50%     33.510000   32.730000   31.000000   30.540000   30.520000   29.780000   \n",
       "75%     34.030000   33.180000   31.330000   30.760000   30.810000   30.170000   \n",
       "max     35.840000   34.480000   32.760000   31.840000   32.220000   32.290000   \n",
       "\n",
       "              NOV         DEC      ANNUAL     JAN-FEB     MAR-MAY     JUN-SEP   \n",
       "count  117.000000  117.000000  117.000000  117.000000  117.000000  117.000000  \\\n",
       "mean    27.285470   24.608291   29.181368   24.629573   31.517607   31.198205   \n",
       "std      0.714518    0.782644    0.555555    0.911239    0.740585    0.420508   \n",
       "min     25.700000   23.020000   28.110000   22.250000   29.920000   30.240000   \n",
       "25%     26.790000   24.040000   28.760000   24.110000   31.040000   30.920000   \n",
       "50%     27.300000   24.660000   29.090000   24.530000   31.470000   31.190000   \n",
       "75%     27.720000   25.110000   29.470000   25.150000   31.890000   31.400000   \n",
       "max     30.110000   28.010000   31.630000   28.330000   34.570000   32.410000   \n",
       "\n",
       "          OCT-DEC  \n",
       "count  117.000000  \n",
       "mean    27.208120  \n",
       "std      0.672003  \n",
       "min     25.740000  \n",
       "25%     26.700000  \n",
       "50%     27.210000  \n",
       "75%     27.610000  \n",
       "max     30.030000  "
      ]
     },
     "execution_count": 5,
     "metadata": {},
     "output_type": "execute_result"
    }
   ],
   "source": [
    "df.describe(include='all')  "
   ]
  },
  {
   "cell_type": "code",
   "execution_count": 6,
   "id": "5bfda82a-f244-4055-bb76-c4e75264635f",
   "metadata": {},
   "outputs": [
    {
     "data": {
      "text/plain": [
       "YEAR       0\n",
       "JAN        0\n",
       "FEB        0\n",
       "MAR        0\n",
       "APR        0\n",
       "MAY        0\n",
       "JUN        0\n",
       "JUL        0\n",
       "AUG        0\n",
       "SEP        0\n",
       "OCT        0\n",
       "NOV        0\n",
       "DEC        0\n",
       "ANNUAL     0\n",
       "JAN-FEB    0\n",
       "MAR-MAY    0\n",
       "JUN-SEP    0\n",
       "OCT-DEC    0\n",
       "dtype: int64"
      ]
     },
     "execution_count": 6,
     "metadata": {},
     "output_type": "execute_result"
    }
   ],
   "source": [
    "df.isnull().sum()"
   ]
  },
  {
   "cell_type": "markdown",
   "id": "cc7d388c-2ffa-4eee-85a4-9adb7ff7206a",
   "metadata": {},
   "source": [
    "## Importing the train_test_split"
   ]
  },
  {
   "cell_type": "code",
   "execution_count": 14,
   "id": "3f8856f2-35c2-4a39-a3ce-e202013377c6",
   "metadata": {},
   "outputs": [],
   "source": [
    "from sklearn.model_selection import train_test_split"
   ]
  },
  {
   "cell_type": "code",
   "execution_count": 15,
   "id": "119af5ba-22ec-496d-afb7-adb7f550c8bd",
   "metadata": {},
   "outputs": [],
   "source": [
    "from sklearn.linear_model import LinearRegression"
   ]
  },
  {
   "cell_type": "code",
   "execution_count": 16,
   "id": "a7217a78-77cd-471b-98a2-b27098478e10",
   "metadata": {},
   "outputs": [],
   "source": [
    "from sklearn.metrics import mean_absolute_error,mean_squared_error,r2_score"
   ]
  },
  {
   "cell_type": "markdown",
   "id": "a0d925c5-fb1e-41c2-9ced-c1d403602fd5",
   "metadata": {},
   "source": [
    "## Model 1 "
   ]
  },
  {
   "cell_type": "code",
   "execution_count": 17,
   "id": "ae9a74af-fb92-42b6-9e67-d879b3a5bb80",
   "metadata": {},
   "outputs": [],
   "source": [
    "X = df[['YEAR']]\n",
    "Y = df[['JAN']]"
   ]
  },
  {
   "cell_type": "code",
   "execution_count": 18,
   "id": "77f9e8cd-fedb-4d7a-b15e-cc9aaffa4ca1",
   "metadata": {},
   "outputs": [],
   "source": [
    "X_train, X_test,y_train, y_test = train_test_split(X, Y, test_size=0.3)"
   ]
  },
  {
   "cell_type": "code",
   "execution_count": 19,
   "id": "d1e2a1ab-b6cc-45c6-a55b-83259b274121",
   "metadata": {},
   "outputs": [],
   "source": [
    "# X_train = np.array(x_train).reshape(-1, 1)\n",
    "# X_test = np.array(x_test).reshape(-1, 1)"
   ]
  },
  {
   "cell_type": "code",
   "execution_count": 20,
   "id": "895d358e-fc60-44b8-86c3-77cebf140ae5",
   "metadata": {},
   "outputs": [],
   "source": [
    "model = LinearRegression()"
   ]
  },
  {
   "cell_type": "code",
   "execution_count": 21,
   "id": "b2e5b0cf-2a55-48ee-844e-b8b94e47b86f",
   "metadata": {},
   "outputs": [],
   "source": [
    "m1=model.fit(X_train,y_train)"
   ]
  },
  {
   "cell_type": "code",
   "execution_count": 22,
   "id": "31a5122c-5506-43e6-85bf-188fee70308c",
   "metadata": {},
   "outputs": [],
   "source": [
    "y_pred = model.predict(X_test)"
   ]
  },
  {
   "cell_type": "code",
   "execution_count": 23,
   "id": "50c13d40-da3f-4445-b23f-28488a79347f",
   "metadata": {},
   "outputs": [
    {
     "data": {
      "image/png": "[encoded data removed]",
      "text/plain": [
       "<Figure size 640x480 with 1 Axes>"
      ]
     },
     "metadata": {},
     "output_type": "display_data"
    }
   ],
   "source": [
    "plt.xlabel(\"Jan\")\n",
    "plt.ylabel(\"Year\")\n",
    "plt.scatter(X_train,y_train, color='red',marker=\"*\") # allows you to visually see how your training data points are distributed.\n",
    "plt.plot(X_test, y_pred, color=\"blue\",marker=\"_\") # helps to see how well your model's predictions match the actual data points\n",
    "plt.show()"
   ]
  },
  {
   "cell_type": "code",
   "execution_count": 20,
   "id": "e8b69a79-9f94-4fb8-bfbe-e9b05a65c702",
   "metadata": {},
   "outputs": [
    {
     "name": "stdout",
     "output_type": "stream",
     "text": [
      "MSE: 0.5861740903836022\n",
      "MAE: 0.5683877674643005\n",
      "R-Square: 0.3034811463296653\n"
     ]
    }
   ],
   "source": [
    "print(f\"MSE: {mean_squared_error(y_test,y_pred)}\")\n",
    "print(f\"MAE: {mean_absolute_error(y_test,y_pred)}\")\n",
    "print(f\"R-Square: {r2_score(y_test,y_pred)}\")"
   ]
  },
  {
   "cell_type": "markdown",
   "id": "374050ff-b596-42f8-b341-5c2c2276fe2b",
   "metadata": {},
   "source": [
    "## Model 2"
   ]
  },
  {
   "cell_type": "code",
   "execution_count": 21,
   "id": "eba3aff9-b710-49ff-a2ba-06542cf05f38",
   "metadata": {},
   "outputs": [],
   "source": [
    "X2 = df['YEAR']\n",
    "Y2 = df['FEB']"
   ]
  },
  {
   "cell_type": "code",
   "execution_count": 22,
   "id": "f9d2e32f-d9a3-4976-a8ce-3fd49991a700",
   "metadata": {},
   "outputs": [],
   "source": [
    "x2_train, x2_test,y2_train, y2_test = train_test_split(X2, Y2, test_size=0.3)"
   ]
  },
  {
   "cell_type": "code",
   "execution_count": 23,
   "id": "66becc17-89f2-4a13-9998-81bf036524b6",
   "metadata": {},
   "outputs": [],
   "source": [
    "X2_train = np.array(x2_train).reshape(-1, 1)\n",
    "X2_test = np.array(x2_test).reshape(-1, 1)"
   ]
  },
  {
   "cell_type": "code",
   "execution_count": 24,
   "id": "70ad11f6-d628-46bd-854c-e0e813d58a62",
   "metadata": {},
   "outputs": [],
   "source": [
    "m2=model.fit(X2_train,y2_train)"
   ]
  },
  {
   "cell_type": "code",
   "execution_count": 25,
   "id": "34559c17-117a-4ab0-9228-c16227025169",
   "metadata": {},
   "outputs": [],
   "source": [
    "y2_pred = model.predict(X2_test)"
   ]
  },
  {
   "cell_type": "code",
   "execution_count": 26,
   "id": "0da010db-6023-4252-8fa9-5af49aa2e30a",
   "metadata": {},
   "outputs": [
    {
     "data": {
      "image/png": "[encoded data removed]",
      "text/plain": [
       "<Figure size 640x480 with 1 Axes>"
      ]
     },
     "metadata": {},
     "output_type": "display_data"
    }
   ],
   "source": [
    "plt.xlabel(\"Feb\")\n",
    "plt.ylabel(\"Year\")\n",
    "plt.scatter(x2_train,y2_train, color='red',marker=\"*\")\n",
    "plt.plot(x2_test, y2_pred, color=\"blue\",marker=\"_\")\n",
    "plt.show()"
   ]
  },
  {
   "cell_type": "code",
   "execution_count": 27,
   "id": "b74289de-b31d-4c2d-a910-bc7b6e78905f",
   "metadata": {},
   "outputs": [
    {
     "name": "stdout",
     "output_type": "stream",
     "text": [
      "MSE: 0.7523622476318785\n",
      "MAE: 0.6576045214649794\n",
      "R-Square: 0.5394480947833931\n"
     ]
    }
   ],
   "source": [
    "print(f\"MSE: {mean_squared_error(y2_test,y2_pred)}\")\n",
    "print(f\"MAE: {mean_absolute_error(y2_test,y2_pred)}\")\n",
    "print(f\"R-Square: {r2_score(y2_test,y2_pred)}\")"
   ]
  },
  {
   "cell_type": "markdown",
   "id": "afe35c20-8f18-4657-8df4-d2fb107d1b65",
   "metadata": {},
   "source": [
    "## Model 3 "
   ]
  },
  {
   "cell_type": "code",
   "execution_count": 28,
   "id": "68ef7c77-968e-4dee-a274-d58672d4e490",
   "metadata": {},
   "outputs": [],
   "source": [
    "X3 = df['YEAR']\n",
    "Y3 = df['MAR']"
   ]
  },
  {
   "cell_type": "code",
   "execution_count": 29,
   "id": "7325b634-7f6c-4f03-94d4-c4b969cf4eb8",
   "metadata": {},
   "outputs": [],
   "source": [
    "x3_train, x3_test,y3_train, y3_test = train_test_split(X3, Y3, test_size=0.3)"
   ]
  },
  {
   "cell_type": "code",
   "execution_count": 30,
   "id": "39054896-843f-4567-869b-365a635e9263",
   "metadata": {},
   "outputs": [],
   "source": [
    "X3_train = np.array(x3_train).reshape(-1, 1)\n",
    "X3_test = np.array(x3_test).reshape(-1, 1)"
   ]
  },
  {
   "cell_type": "code",
   "execution_count": 31,
   "id": "3d9c473e-aa48-45ab-8411-c57e59c36407",
   "metadata": {},
   "outputs": [],
   "source": [
    "m3=model.fit(X3_train,y3_train)"
   ]
  },
  {
   "cell_type": "code",
   "execution_count": 32,
   "id": "850f89a3-6ee5-4b3e-9aae-09a95da47470",
   "metadata": {},
   "outputs": [],
   "source": [
    "y3_pred = model.predict(X3_test)"
   ]
  },
  {
   "cell_type": "code",
   "execution_count": 33,
   "id": "669a2d98-2b98-487d-ab77-93666a7ce4d7",
   "metadata": {},
   "outputs": [
    {
     "data": {
      "image/png": "[encoded data removed]",
      "text/plain": [
       "<Figure size 640x480 with 1 Axes>"
      ]
     },
     "metadata": {},
     "output_type": "display_data"
    }
   ],
   "source": [
    "plt.xlabel(\"Mar\")\n",
    "plt.ylabel(\"Year\")\n",
    "plt.scatter(x3_train,y3_train, color='red',marker=\"*\")\n",
    "plt.plot(x3_test, y3_pred, color=\"blue\",marker=\"_\")\n",
    "plt.show()"
   ]
  },
  {
   "cell_type": "code",
   "execution_count": 34,
   "id": "3e498551-a0b3-4c00-8770-21cb1161e952",
   "metadata": {},
   "outputs": [
    {
     "name": "stdout",
     "output_type": "stream",
     "text": [
      "MSE: 0.8437143133547121\n",
      "MAE: 0.7574703010511195\n",
      "R-Square: 0.2589456698416852\n"
     ]
    }
   ],
   "source": [
    "print(f\"MSE: {mean_squared_error(y3_test,y3_pred)}\")\n",
    "print(f\"MAE: {mean_absolute_error(y3_test,y3_pred)}\")\n",
    "print(f\"R-Square: {r2_score(y3_test,y3_pred)}\")"
   ]
  },
  {
   "cell_type": "markdown",
   "id": "05e26717-ab62-444b-8add-c758ddff7261",
   "metadata": {},
   "source": [
    "## model 4"
   ]
  },
  {
   "cell_type": "code",
   "execution_count": 35,
   "id": "a4ad0414-f613-4289-b9cc-9ad6361df9ea",
   "metadata": {},
   "outputs": [],
   "source": [
    "X4 = df['YEAR']\n",
    "Y4 = df['APR']"
   ]
  },
  {
   "cell_type": "code",
   "execution_count": 36,
   "id": "e4e70172-2835-4f16-9623-b920097a58d6",
   "metadata": {},
   "outputs": [],
   "source": [
    "x4_train, x4_test,y4_train, y4_test = train_test_split(X4, Y4, test_size=0.3)"
   ]
  },
  {
   "cell_type": "code",
   "execution_count": 37,
   "id": "80c6bb6c-238a-4dd8-9fb6-ce6895fbab75",
   "metadata": {},
   "outputs": [],
   "source": [
    "X4_train = np.array(x4_train).reshape(-1, 1)\n",
    "X4_test = np.array(x4_test).reshape(-1, 1)"
   ]
  },
  {
   "cell_type": "code",
   "execution_count": 38,
   "id": "e20a827a-9ea8-486b-9a08-ecb866e02cfd",
   "metadata": {},
   "outputs": [],
   "source": [
    "m4=model.fit(X4_train,y4_train)"
   ]
  },
  {
   "cell_type": "code",
   "execution_count": 39,
   "id": "f1b0a4df-349a-4f35-b64b-4c599bb8a162",
   "metadata": {},
   "outputs": [],
   "source": [
    "y4_pred = model.predict(X4_test)"
   ]
  },
  {
   "cell_type": "code",
   "execution_count": 40,
   "id": "5195a557-07a8-4b64-8607-d913cb9fedac",
   "metadata": {},
   "outputs": [
    {
     "data": {
      "image/png": "[encoded data removed]",
      "text/plain": [
       "<Figure size 640x480 with 1 Axes>"
      ]
     },
     "metadata": {},
     "output_type": "display_data"
    }
   ],
   "source": [
    "plt.xlabel(\"Apr\")\n",
    "plt.ylabel(\"Year\")\n",
    "plt.scatter(x4_train,y4_train, color='red',marker=\"*\")\n",
    "plt.plot(x4_test, y4_pred, color=\"blue\",marker=\"_\")\n",
    "plt.show()"
   ]
  },
  {
   "cell_type": "code",
   "execution_count": 41,
   "id": "4bcf261e-844b-4610-b9d1-1c7250e946b2",
   "metadata": {},
   "outputs": [
    {
     "name": "stdout",
     "output_type": "stream",
     "text": [
      "MSE: 0.5086804097067722\n",
      "MAE: 0.5187010464288565\n",
      "R-Square: 0.33923200848271284\n"
     ]
    }
   ],
   "source": [
    "print(f\"MSE: {mean_squared_error(y4_test,y4_pred)}\")\n",
    "print(f\"MAE: {mean_absolute_error(y4_test,y4_pred)}\")\n",
    "print(f\"R-Square: {r2_score(y4_test,y4_pred)}\")"
   ]
  },
  {
   "cell_type": "markdown",
   "id": "126c55e4-723a-40ec-ab83-68246d5cc825",
   "metadata": {},
   "source": [
    "## model 5 "
   ]
  },
  {
   "cell_type": "code",
   "execution_count": 42,
   "id": "70dfea5a-37a9-4ad0-9af7-d7692da84adf",
   "metadata": {},
   "outputs": [],
   "source": [
    "X5 = df['YEAR']\n",
    "Y5 = df['APR']"
   ]
  },
  {
   "cell_type": "code",
   "execution_count": 43,
   "id": "cafa78e1-31ff-4198-944a-53332a28562c",
   "metadata": {},
   "outputs": [],
   "source": [
    "x5_train, x5_test,y5_train, y5_test = train_test_split(X5, Y5, test_size=0.3)"
   ]
  },
  {
   "cell_type": "code",
   "execution_count": 44,
   "id": "4e0fbf3b-37bf-4c2e-8bd1-af919000e275",
   "metadata": {},
   "outputs": [],
   "source": [
    "X5_train = np.array(x5_train).reshape(-1, 1)\n",
    "X5_test = np.array(x5_test).reshape(-1, 1)"
   ]
  },
  {
   "cell_type": "code",
   "execution_count": 45,
   "id": "dcf4a528-6d05-4173-bdf1-38bfa5eb3952",
   "metadata": {},
   "outputs": [],
   "source": [
    "m5=model.fit(X5_train,y5_train)"
   ]
  },
  {
   "cell_type": "code",
   "execution_count": 46,
   "id": "9f769159-e6bf-4cda-a80a-cb13025162dc",
   "metadata": {},
   "outputs": [],
   "source": [
    "y5_pred = model.predict(X5_test)"
   ]
  },
  {
   "cell_type": "code",
   "execution_count": 47,
   "id": "4e20a2e5-d84e-4208-8f20-d80a6280223b",
   "metadata": {},
   "outputs": [
    {
     "data": {
      "image/png": "[encoded data removed]",
      "text/plain": [
       "<Figure size 640x480 with 1 Axes>"
      ]
     },
     "metadata": {},
     "output_type": "display_data"
    }
   ],
   "source": [
    "plt.xlabel(\"Apr\")\n",
    "plt.ylabel(\"Year\")\n",
    "plt.scatter(x5_train,y5_train, color='red',marker=\"*\")\n",
    "plt.plot(x5_test, y5_pred, color=\"blue\",marker=\"_\")\n",
    "plt.show()"
   ]
  },
  {
   "cell_type": "code",
   "execution_count": 48,
   "id": "48da2d1c-95a3-49fa-84c8-c3bd2c8e1ac6",
   "metadata": {},
   "outputs": [
    {
     "name": "stdout",
     "output_type": "stream",
     "text": [
      "MSE: 0.45624787622563645\n",
      "MAE: 0.5757848896837304\n",
      "R-Square: 0.2681881432456594\n"
     ]
    }
   ],
   "source": [
    "print(f\"MSE: {mean_squared_error(y5_test,y5_pred)}\")\n",
    "print(f\"MAE: {mean_absolute_error(y5_test,y5_pred)}\")\n",
    "print(f\"R-Square: {r2_score(y5_test,y5_pred)}\")"
   ]
  },
  {
   "cell_type": "markdown",
   "id": "51697351-345d-4094-9754-932eb54d7e44",
   "metadata": {},
   "source": [
    "## model 6"
   ]
  },
  {
   "cell_type": "code",
   "execution_count": 49,
   "id": "435f6182-a85e-4326-9a10-c52fccb5f45a",
   "metadata": {},
   "outputs": [],
   "source": [
    "X6 = df['YEAR']\n",
    "Y6 = df['MAY']"
   ]
  },
  {
   "cell_type": "code",
   "execution_count": 50,
   "id": "85537dbf-7f8d-4c7b-b46e-db2b8ae08904",
   "metadata": {},
   "outputs": [],
   "source": [
    "x6_train, x6_test,y6_train, y6_test = train_test_split(X6, Y6, test_size=0.3)"
   ]
  },
  {
   "cell_type": "code",
   "execution_count": 51,
   "id": "60b95edb-fd31-4e68-86d1-214f80628686",
   "metadata": {},
   "outputs": [],
   "source": [
    "X6_train = np.array(x6_train).reshape(-1, 1)\n",
    "X6_test = np.array(x6_test).reshape(-1, 1)"
   ]
  },
  {
   "cell_type": "code",
   "execution_count": 52,
   "id": "870fa7b0-6047-4d63-bf5f-07c01470018b",
   "metadata": {},
   "outputs": [],
   "source": [
    "m6=model.fit(X6_train,y6_train)"
   ]
  },
  {
   "cell_type": "code",
   "execution_count": 53,
   "id": "a58cff3e-d353-4681-bc89-a00a64b235c1",
   "metadata": {},
   "outputs": [],
   "source": [
    "y6_pred = model.predict(X6_test)"
   ]
  },
  {
   "cell_type": "code",
   "execution_count": 54,
   "id": "b0ae17e8-9f96-4860-889e-aac691663cf1",
   "metadata": {},
   "outputs": [
    {
     "data": {
      "image/png": "[encoded data removed]",
      "text/plain": [
       "<Figure size 640x480 with 1 Axes>"
      ]
     },
     "metadata": {},
     "output_type": "display_data"
    }
   ],
   "source": [
    "plt.xlabel(\"May\")\n",
    "plt.ylabel(\"Year\")\n",
    "plt.scatter(x6_train,y6_train, color='red',marker=\"*\")\n",
    "plt.plot(x6_test, y6_pred, color=\"blue\",marker=\"_\")\n",
    "plt.show()"
   ]
  },
  {
   "cell_type": "code",
   "execution_count": 55,
   "id": "2b15b6ab-96e2-413e-81d8-4678b5fff814",
   "metadata": {},
   "outputs": [
    {
     "name": "stdout",
     "output_type": "stream",
     "text": [
      "MSE: 0.42051342041068\n",
      "MAE: 0.5021620249548047\n",
      "R-Square: 0.1392437764042217\n"
     ]
    }
   ],
   "source": [
    "print(f\"MSE: {mean_squared_error(y6_test,y6_pred)}\")\n",
    "print(f\"MAE: {mean_absolute_error(y6_test,y6_pred)}\")\n",
    "print(f\"R-Square: {r2_score(y6_test,y6_pred)}\")"
   ]
  },
  {
   "cell_type": "markdown",
   "id": "73502f43-e64b-4dee-a095-49edb418893c",
   "metadata": {},
   "source": [
    "## model 7 "
   ]
  },
  {
   "cell_type": "code",
   "execution_count": 56,
   "id": "8deeabc8-1842-4c88-91f0-4818e95c3109",
   "metadata": {},
   "outputs": [],
   "source": [
    "X7 = df['YEAR']\n",
    "Y7 = df['AUG']"
   ]
  },
  {
   "cell_type": "code",
   "execution_count": 57,
   "id": "cbfcfbf7-1230-4e34-a992-c9a3cb03e344",
   "metadata": {},
   "outputs": [],
   "source": [
    "x7_train, x7_test,y7_train, y7_test = train_test_split(X7, Y7, test_size=0.3)"
   ]
  },
  {
   "cell_type": "code",
   "execution_count": 58,
   "id": "34a18a2e-e7b4-44c0-96b9-4351c86f1302",
   "metadata": {},
   "outputs": [],
   "source": [
    "X7_train = np.array(x7_train).reshape(-1, 1)\n",
    "X7_test = np.array(x7_test).reshape(-1, 1)"
   ]
  },
  {
   "cell_type": "code",
   "execution_count": 59,
   "id": "ee63e88c-c1af-4d77-9673-e32517d4ad5e",
   "metadata": {},
   "outputs": [],
   "source": [
    "m6=model.fit(X7_train,y7_train)"
   ]
  },
  {
   "cell_type": "code",
   "execution_count": 60,
   "id": "b8b4d887-fbda-4707-9f94-687015914e79",
   "metadata": {},
   "outputs": [],
   "source": [
    "y7_pred = model.predict(X7_test)"
   ]
  },
  {
   "cell_type": "code",
   "execution_count": 61,
   "id": "5987144a-ea00-4fb6-a632-d56b2c343feb",
   "metadata": {},
   "outputs": [
    {
     "data": {
      "image/png": "[encoded data removed]",
      "text/plain": [
       "<Figure size 640x480 with 1 Axes>"
      ]
     },
     "metadata": {},
     "output_type": "display_data"
    }
   ],
   "source": [
    "plt.xlabel(\"Aug\")\n",
    "plt.ylabel(\"Year\")\n",
    "plt.scatter(x7_train,y7_train, color='red',marker=\"*\")\n",
    "plt.plot(x7_test, y7_pred, color=\"blue\",marker=\"_\")\n",
    "plt.show()"
   ]
  },
  {
   "cell_type": "code",
   "execution_count": 62,
   "id": "f3969d3e-f5fe-4a38-abb9-e89d5d72192b",
   "metadata": {},
   "outputs": [
    {
     "name": "stdout",
     "output_type": "stream",
     "text": [
      "MSE: 0.13791202872198094\n",
      "MAE: 0.29037411235822247\n",
      "R-Square: 0.35041041666613737\n"
     ]
    }
   ],
   "source": [
    "print(f\"MSE: {mean_squared_error(y7_test,y7_pred)}\")\n",
    "print(f\"MAE: {mean_absolute_error(y7_test,y7_pred)}\")\n",
    "print(f\"R-Square: {r2_score(y7_test,y7_pred)}\")"
   ]
  },
  {
   "cell_type": "code",
   "execution_count": null,
   "id": "109a5153-0299-4b38-b376-5e53d67bb84f",
   "metadata": {},
   "outputs": [],
   "source": []
  },
  {
   "cell_type": "code",
   "execution_count": null,
   "id": "a8e169dc-9192-40f1-9dee-9018a77a013b",
   "metadata": {},
   "outputs": [],
   "source": []
  },
  {
   "cell_type": "code",
   "execution_count": 13,
   "id": "f32f81c9-45f3-4824-9009-18350dc40d2e",
   "metadata": {},
   "outputs": [
    {
     "data": {
      "image/png": "[encoded data removed]",
      "text/plain": [
       "<Figure size 640x480 with 1 Axes>"
      ]
     },
     "metadata": {},
     "output_type": "display_data"
    }
   ],
   "source": [
    "import matplotlib.pyplot as plt\n",
    "\n",
    "# Data\n",
    "x = [1, 2, 3, 4, 5]\n",
    "y = [2, 4, 6, 8, 10]\n",
    "\n",
    "# Create a plot\n",
    "plt.plot(x, y)\n",
    "\n",
    "# Add labels and title\n",
    "# plt.xlabel('X-axis Label')\n",
    "# plt.ylabel('Y-axis Label')\n",
    "# plt.title('Simple Plot')\n",
    "\n",
    "# Display the plot\n",
    "plt.show()\n"
   ]
  },
  {
   "cell_type": "code",
   "execution_count": null,
   "id": "16fc68a2-ee9d-422f-b285-a505e4fa70fc",
   "metadata": {},
   "outputs": [],
   "source": []
  }
 ],
 "metadata": {
  "kernelspec": {
   "display_name": "Python 3 (ipykernel)",
   "language": "python",
   "name": "python3"
  },
  "language_info": {
   "codemirror_mode": {
    "name": "ipython",
    "version": 3
   },
   "file_extension": ".py",
   "mimetype": "text/x-python",
   "name": "python",
   "nbconvert_exporter": "python",
   "pygments_lexer": "ipython3",
   "version": "3.11.4"
  }
 },
 "nbformat": 4,
 "nbformat_minor": 5
}
